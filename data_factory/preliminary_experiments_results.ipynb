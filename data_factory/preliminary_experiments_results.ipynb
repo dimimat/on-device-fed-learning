{
 "cells": [
  {
   "cell_type": "markdown",
   "metadata": {},
   "source": [
    "# Preliminary Experiments Results\n",
    "This notebook collects and analyzes results from preliminary experiments on Human Activity Recognition (HAR) datasets. The goal is to evaluate the impact of class imbalance and data distribution on model performance in preliminary tests."
   ]
  },
  {
   "cell_type": "code",
   "execution_count": 3,
   "metadata": {},
   "outputs": [],
   "source": [
    "import numpy as np\n",
    "import matplotlib.pyplot as plt\n",
    "import pandas as pd\n",
    "import dataloading\n",
    "import os\n",
    "from sklearn.decomposition import PCA\n",
    "import torch"
   ]
  },
  {
   "cell_type": "code",
   "execution_count": 4,
   "metadata": {},
   "outputs": [
    {
     "data": {
      "text/html": [
       "<div>\n",
       "<style scoped>\n",
       "    .dataframe tbody tr th:only-of-type {\n",
       "        vertical-align: middle;\n",
       "    }\n",
       "\n",
       "    .dataframe tbody tr th {\n",
       "        vertical-align: top;\n",
       "    }\n",
       "\n",
       "    .dataframe thead th {\n",
       "        text-align: right;\n",
       "    }\n",
       "</style>\n",
       "<table border=\"1\" class=\"dataframe\">\n",
       "  <thead>\n",
       "    <tr style=\"text-align: right;\">\n",
       "      <th></th>\n",
       "      <th>AG-X</th>\n",
       "      <th>AG-Y</th>\n",
       "      <th>AG-Z</th>\n",
       "      <th>Acc-X</th>\n",
       "      <th>Acc-Y</th>\n",
       "      <th>Acc-Z</th>\n",
       "      <th>Gravity-X</th>\n",
       "      <th>Gravity-Y</th>\n",
       "      <th>Gravity-Z</th>\n",
       "      <th>RR-X</th>\n",
       "      <th>RR-Y</th>\n",
       "      <th>RR-Z</th>\n",
       "      <th>RV-X</th>\n",
       "      <th>RV-Y</th>\n",
       "      <th>RV-Z</th>\n",
       "      <th>cos</th>\n",
       "      <th>activity</th>\n",
       "    </tr>\n",
       "  </thead>\n",
       "  <tbody>\n",
       "    <tr>\n",
       "      <th>0</th>\n",
       "      <td>-9.494311</td>\n",
       "      <td>5.423363</td>\n",
       "      <td>0.196757</td>\n",
       "      <td>-1.684995</td>\n",
       "      <td>0.401508</td>\n",
       "      <td>1.334339</td>\n",
       "      <td>-8.855526</td>\n",
       "      <td>4.199663</td>\n",
       "      <td>-0.335983</td>\n",
       "      <td>-0.762366</td>\n",
       "      <td>-0.750471</td>\n",
       "      <td>1.109060</td>\n",
       "      <td>0.232662</td>\n",
       "      <td>0.672025</td>\n",
       "      <td>0.101603</td>\n",
       "      <td>0.695649</td>\n",
       "      <td>Running</td>\n",
       "    </tr>\n",
       "    <tr>\n",
       "      <th>1</th>\n",
       "      <td>-8.890651</td>\n",
       "      <td>2.520043</td>\n",
       "      <td>0.963310</td>\n",
       "      <td>-0.895032</td>\n",
       "      <td>-1.936677</td>\n",
       "      <td>1.436671</td>\n",
       "      <td>-8.399648</td>\n",
       "      <td>5.060810</td>\n",
       "      <td>0.067106</td>\n",
       "      <td>-0.613229</td>\n",
       "      <td>-0.121966</td>\n",
       "      <td>1.906942</td>\n",
       "      <td>0.245168</td>\n",
       "      <td>0.660660</td>\n",
       "      <td>0.131849</td>\n",
       "      <td>0.697164</td>\n",
       "      <td>Running</td>\n",
       "    </tr>\n",
       "    <tr>\n",
       "      <th>2</th>\n",
       "      <td>-5.632800</td>\n",
       "      <td>1.581015</td>\n",
       "      <td>0.230293</td>\n",
       "      <td>2.350318</td>\n",
       "      <td>-3.642859</td>\n",
       "      <td>-1.169414</td>\n",
       "      <td>-7.911231</td>\n",
       "      <td>5.790931</td>\n",
       "      <td>0.218930</td>\n",
       "      <td>-0.142383</td>\n",
       "      <td>-0.352063</td>\n",
       "      <td>1.759936</td>\n",
       "      <td>0.264845</td>\n",
       "      <td>0.648175</td>\n",
       "      <td>0.163016</td>\n",
       "      <td>0.695091</td>\n",
       "      <td>Running</td>\n",
       "    </tr>\n",
       "    <tr>\n",
       "      <th>3</th>\n",
       "      <td>-6.322698</td>\n",
       "      <td>6.228244</td>\n",
       "      <td>-0.756644</td>\n",
       "      <td>0.812825</td>\n",
       "      <td>-0.722664</td>\n",
       "      <td>-0.334024</td>\n",
       "      <td>-7.523226</td>\n",
       "      <td>6.280006</td>\n",
       "      <td>0.364660</td>\n",
       "      <td>-0.148775</td>\n",
       "      <td>-0.382955</td>\n",
       "      <td>1.208129</td>\n",
       "      <td>0.299550</td>\n",
       "      <td>0.624335</td>\n",
       "      <td>0.195080</td>\n",
       "      <td>0.694564</td>\n",
       "      <td>Running</td>\n",
       "    </tr>\n",
       "    <tr>\n",
       "      <th>4</th>\n",
       "      <td>-7.640211</td>\n",
       "      <td>4.862821</td>\n",
       "      <td>1.715490</td>\n",
       "      <td>0.349670</td>\n",
       "      <td>-0.468074</td>\n",
       "      <td>-0.378780</td>\n",
       "      <td>-6.921238</td>\n",
       "      <td>6.909286</td>\n",
       "      <td>0.727059</td>\n",
       "      <td>-1.047857</td>\n",
       "      <td>0.379773</td>\n",
       "      <td>0.828895</td>\n",
       "      <td>0.310003</td>\n",
       "      <td>0.607825</td>\n",
       "      <td>0.220415</td>\n",
       "      <td>0.697039</td>\n",
       "      <td>Running</td>\n",
       "    </tr>\n",
       "  </tbody>\n",
       "</table>\n",
       "</div>"
      ],
      "text/plain": [
       "       AG-X      AG-Y      AG-Z     Acc-X     Acc-Y     Acc-Z  Gravity-X  \\\n",
       "0 -9.494311  5.423363  0.196757 -1.684995  0.401508  1.334339  -8.855526   \n",
       "1 -8.890651  2.520043  0.963310 -0.895032 -1.936677  1.436671  -8.399648   \n",
       "2 -5.632800  1.581015  0.230293  2.350318 -3.642859 -1.169414  -7.911231   \n",
       "3 -6.322698  6.228244 -0.756644  0.812825 -0.722664 -0.334024  -7.523226   \n",
       "4 -7.640211  4.862821  1.715490  0.349670 -0.468074 -0.378780  -6.921238   \n",
       "\n",
       "   Gravity-Y  Gravity-Z      RR-X      RR-Y      RR-Z      RV-X      RV-Y  \\\n",
       "0   4.199663  -0.335983 -0.762366 -0.750471  1.109060  0.232662  0.672025   \n",
       "1   5.060810   0.067106 -0.613229 -0.121966  1.906942  0.245168  0.660660   \n",
       "2   5.790931   0.218930 -0.142383 -0.352063  1.759936  0.264845  0.648175   \n",
       "3   6.280006   0.364660 -0.148775 -0.382955  1.208129  0.299550  0.624335   \n",
       "4   6.909286   0.727059 -1.047857  0.379773  0.828895  0.310003  0.607825   \n",
       "\n",
       "       RV-Z       cos activity  \n",
       "0  0.101603  0.695649  Running  \n",
       "1  0.131849  0.697164  Running  \n",
       "2  0.163016  0.695091  Running  \n",
       "3  0.195080  0.694564  Running  \n",
       "4  0.220415  0.697039  Running  "
      ]
     },
     "execution_count": 4,
     "metadata": {},
     "output_type": "execute_result"
    }
   ],
   "source": [
    "df1 = dataloading.load_data1()\n",
    "df1.head()"
   ]
  },
  {
   "cell_type": "markdown",
   "metadata": {},
   "source": [
    "### Experiment 1,2"
   ]
  },
  {
   "cell_type": "markdown",
   "metadata": {},
   "source": [
    "Experiment 1:\n",
    "In this experiment, we trained a naively defined DNN model (i.e n_features * 10 * 10 * n_labels) on each dataset using a 20%/80% train-test split. And the training routine was configured  with n_epochs = 5, n_client = 1\n",
    "and n_data_split = 1 (which means that we pass the whole data on just 1 client)\n",
    "\n",
    "dataset1: info => n_subjects = 12, n_samples = 94,198\n",
    "train_set_accuracy: 0.809, test_set_accuracy: 0.795\n",
    "\n",
    "dataset2: info => n_subjects = 30, n_samples = 10,299\n",
    "train_set_accuracy: 0.9, test_set_accuracy: 0.87\n",
    "\n",
    "dataset3: info => n_subjects = 9, n_samples = 247,208\n",
    "train_set_accuracy: 0.99, test_set_accuracy: 0.98\n",
    "\n",
    "dataset4: info => n_subjects = 10, n_samples = 343,195\n",
    "    train_set_accuracy: 0.86, test_set_accuracy: 0.86\n",
    "    \n",
    "dataset5: info => n_subjects = 32, n_samples = 5,988,306\n",
    "train_set_accuracy: 0.889, test_set_accuracy: 0.889\n",
    "\n",
    "dataset6: info => n_subjects = 24, n_samples = 1,412,865\n",
    "train_set_accuracy: 0.765, test_set_accuracy: 0.764\n",
    "    \n",
    "We used a 20%/80% train-test split because we sample from N clients and pass it to just one. There is an abundance of training samples for the model to learn from. Some datasets include a subject ID to distinguish which data belongs to which subject. This setup simulates federated data but for now we wiil just concatenate the data into a single dataframe and modify the volume and class imbalance as needed.\n",
    "\n",
    "At first glance, the data appears to be easy to learn, even for a single training client, using just 20% of the dataset. But since our datasets contain up to 32 subjects (meaning each client receives approximately 3% of the total data), we may need to evaluate the performance of a single client by further subdividing the data.\n",
    "\n",
    "Experiment 2:\n",
    "n_clients = 1, n_data_split = up to 35, n_epochs = 5, n_global_iters = 1, train_test_split = 0.8%/0.2%\n",
    "\n",
    "Note: as of this time. we train test split the data for every client. As a result we have as many test data as the number of clients. This may not be optimal as we do not have a common reference to analyze the results. We will proceede to data analysis with this in our minds and we will change this in the following experiments\n",
    "\n",
    "Note: In the current data pipeline, we perform a train-test split for each client individually. As a result, the number of test datasets equals the number of clients. This approach may not be optimal, as it lacks a common reference for result analysis. We will take this into consideration during data analysis and make adjustments in future experiments.\n",
    "\n",
    "dataset1: \n",
    "n_data_splits = 9\n",
    "    n_epochs = 5 => train_set_accuracy: 0.799, test_set_accuracy: 0.786\n",
    "    n_epochs = 100 => train_set_accuracy: 0.827, test_set_accuracy: 0.792\n",
    "\n",
    "n_data_splits = 35\n",
    "    n_epochs = 5 => train_set_accuracy: 0.737, test_set_accuracy: 0.687\n",
    "    n_epochs = 100 => train_set_accuracy: 0.85, test_set_accuracy: 0.76\n",
    "\n",
    "dataset2: \n",
    "n_data_splits = 30\n",
    "    n_epochs = 5 => train_set_accuracy: 0.75, test_set_accuracy: 0.838\n",
    "    n_epochs = 100 => train_set_accuracy: 0.99, test_set_accuracy: 0.926\n",
    "\n",
    "n_data_splits = 35\n",
    "    n_epochs = 5 => train_set_accuracy: 0.74, test_set_accuracy: 0.758\n",
    "    n_epochs = 100 => train_set_accuracy: 1.0, test_set_accuracy: 0.879\n",
    "\n",
    "dataset3: \n",
    "n_data_splits = 35\n",
    "    n_epochs = 5 => train_set_accuracy: 0.97, test_set_accuracy: 0.95\n",
    "    n_epochs = 100 => train_set_accuracy: 0.996, test_set_accuracy: 0.985\n",
    "\n",
    "dataset4:\n",
    "n_data_splits = 35\n",
    "    n_epochs = 5 => train_set_accuracy: 0.846, test_set_accuracy: 0.825\n",
    "    n_epochs = 100 => train_set_accuracy: 0.895, test_set_accuracy: 0.858\n",
    "\n",
    "dataset5: \n",
    "n_data_splits = 35\n",
    "    n_epochs = 5 => train_set_accuracy: 0.886, test_set_accuracy: 0.888\n",
    "    n_epochs = 100 => train_set_accuracy: 0.891, test_set_accuracy: 0.891\n",
    "\n",
    "dataset6: \n",
    "n_data_splits = 35\n",
    "    n_epochs = 5 => train_set_accuracy: 0.76, test_set_accuracy: 0.757\n",
    "    n_epochs = 100 => train_set_accuracy: 0.77, test_set_accuracy: 0.765\n",
    "\n",
    "We conducted tests with both 5 and 100 epochs to evaluate the effect of overfitting. Splitting the data among 35 subjects did not result in any deterioration of the results, indicating that the data volume collected for each subject is sufficient for building a reliable classification model."
   ]
  },
  {
   "cell_type": "markdown",
   "metadata": {},
   "source": [
    "### Experiment 3\n",
    "\n",
    "We currently have 2 clients, but we will attempt to simulate 50 clients and observe the results.\n",
    "To achieve this, we will randomly split Dataset 1 into 50 parts and train the same model in 25 batches\n",
    "of 2 clients each. This setup may simulate one round of global iteration with 50 clients,\n",
    "so we do not anticipate significant improvements\n",
    "\n",
    "Conclusion: \n",
    "Overfitting is easy in this problem, so after a few iterations, we achieve a train set accuracy of 1.0. \n",
    "After the first pass of all 50 clients, the accuracy improved from 0.744 to 0.815 (~9%).\n",
    "Whether this improvement is low or high is not our primary concern. What matters is that after 3 batches of\n",
    "clients, the accuracy increased from 0.744 to 0.809. This suggests that, at least after a single pass of the\n",
    "initial 50 clients, we did not observe significant benefits from training across multiple clients compared\n",
    "to local training on individual datasets"
   ]
  },
  {
   "cell_type": "code",
   "execution_count": 11,
   "metadata": {},
   "outputs": [
    {
     "data": {
      "text/plain": [
       "[<matplotlib.lines.Line2D at 0x7fe105d30f50>]"
      ]
     },
     "execution_count": 11,
     "metadata": {},
     "output_type": "execute_result"
    },
    {
     "data": {
      "image/png": "[encoded data removed]",
      "text/plain": [
       "<Figure size 432x288 with 1 Axes>"
      ]
     },
     "metadata": {
      "needs_background": "light"
     },
     "output_type": "display_data"
    }
   ],
   "source": [
    "# training routine => (n_data_split) x (client_batch_size) x (n_epochs) x (n_global_iters) => 50 x 2 x 5 x 10\n",
    "# train_test_split = 0.2, 0.8\n",
    "# model = [16, 50, 50, 6]\n",
    "train_set_accuracy = [1] * 25\n",
    "train_set_accuracy[0] = 0.98\n",
    "\n",
    "test_set_accuracy = [0.744, 0.797, 0.809, 0.82, 0.804, 0.787, 0.819, 0.807, 0.811, 0.82, 0.804,\n",
    "                     0.81, 0.829, 0.809, 0.817, 0.816, 0.819, 0.823, 0.829, 0.835, 0.823, 0.812, 0.804,\n",
    "                     0.799,0.815]\n",
    "\n",
    "plt.plot(test_set_accuracy)"
   ]
  },
  {
   "cell_type": "markdown",
   "metadata": {},
   "source": [
    "### Experiment 4\n",
    "\n",
    "Before applying the class imbalance described one class_ratio_list for every client and every label we first\n",
    "balance the dataset using downsampling (we have an abaduance of data so we do not care losing some samples) and\n",
    "then we modify the data imbalansess at will.\n",
    "\n",
    "Conclusion:\n",
    "We observed an improvement from 0.8 (the best-case scenario for a single client with 100 epochs) to 0.838 (5% increase) but only with 2 clients. However, after the last 2 iterations, the accuracy started to deteriorate."
   ]
  },
  {
   "cell_type": "code",
   "execution_count": 15,
   "metadata": {},
   "outputs": [
    {
     "name": "stdout",
     "output_type": "stream",
     "text": [
      "X_train: (18839, 16), y_train: (18839,), X_test: (75359, 16), y_test: (75359,)\n",
      "y_train counts: [ 84  84  84 674  84 674] ratio: [0.04988124 0.04988124 0.04988124 0.40023753 0.04988124 0.40023753]\n",
      "y_test counts: [3369 3369 3369 3369 3369 3369] ratio: [0.16666667 0.16666667 0.16666667 0.16666667 0.16666667 0.16666667]\n",
      "y_train counts: [718  90 180 269 718 718] ratio: [0.26661716 0.03341998 0.06683996 0.0998886  0.26661716 0.26661716]\n",
      "y_test counts: [3350 3350 3350 3350 3350 3350] ratio: [0.16666667 0.16666667 0.16666667 0.16666667 0.16666667 0.16666667]\n",
      "y_train counts: [659 659  82 165 247 659] ratio: [0.26669365 0.26669365 0.03318495 0.06677459 0.09995953 0.26669365]\n",
      "y_test counts: [3401 3401 3401 3401 3401 3401] ratio: [0.16666667 0.16666667 0.16666667 0.16666667 0.16666667 0.16666667]\n",
      "y_train counts: [718 718 718  90 180 269] ratio: [0.26661716 0.26661716 0.26661716 0.03341998 0.06683996 0.0998886 ]\n",
      "y_test counts: [3435 3435 3435 3435 3435 3435] ratio: [0.16666667 0.16666667 0.16666667 0.16666667 0.16666667 0.16666667]\n",
      "y_train counts: [262 700 700 700  88 175] ratio: [0.09980952 0.26666667 0.26666667 0.26666667 0.03352381 0.06666667]\n",
      "y_test counts: [3373 3373 3373 3373 3373 3373] ratio: [0.16666667 0.16666667 0.16666667 0.16666667 0.16666667 0.16666667]\n",
      "y_train counts: [177 266 709 709 709  89] ratio: [0.06656638 0.10003761 0.26664159 0.26664159 0.26664159 0.03347123]\n",
      "y_test counts: [3394 3394 3394 3394 3394 3394] ratio: [0.16666667 0.16666667 0.16666667 0.16666667 0.16666667 0.16666667]\n"
     ]
    }
   ],
   "source": [
    "# experiment 4: turn up a little bit the class imbalance knob\n",
    "# training_routine = 6 x 2 x 5 x 10, model = [16, 50, 50, 6]\n",
    "# train_test_split = 0.2, 0.8\n",
    "\n",
    "X_train,y_train,X_test,y_test,labels = dataloading.train_test_split(df1,test_size=0.8)\n",
    "print(f\"X_train: {X_train.shape}, y_train: {y_train.shape}, X_test: {X_test.shape}, y_test: {y_test.shape}\")\n",
    "client_data = dataloading.to_client(data=(X_train,y_train,X_test,y_test),max_clients=6)\n",
    "\n",
    "class_ratio_list = [\n",
    "    [0.1, 0.1, 0.1, 0.8, 0.1, 0.8], \n",
    "    [0.8, 0.1, 0.2, 0.3, 0.8, 0.8], \n",
    "    [0.8, 0.8, 0.1, 0.2, 0.3, 0.8], \n",
    "    [0.8, 0.8, 0.8, 0.1, 0.2, 0.3], \n",
    "    [0.3, 0.8, 0.8, 0.8, 0.1, 0.2], \n",
    "    [0.2, 0.3, 0.8, 0.8, 0.8, 0.1]\n",
    "]\n",
    "\n",
    "client_data_im = []\n",
    "for idx,(X_train, y_train, X_test, y_test) in enumerate(client_data):\n",
    "    class_ratio = class_ratio_list[idx]\n",
    "    X_train_im, y_train_im, X_test_im, y_test_im = dataloading.class_imbalance((X_train,y_train,X_test,y_test),class_ratio,balance=True)\n",
    "    dataloading.print_balance(y_train_im,y_test_im)\n",
    "    client_data_im.append((X_train_im, y_train_im, X_test_im, y_test_im))\n",
    "    \n",
    "\n",
    "#training_routine = 6 x 2 x 5 x 10\n",
    "train_set_accuracy_1 = [0.98, 0.98, 0.97]\n",
    "test_set_accuracy_1 = [0.838, 0.815, 0.817]\n",
    "\n",
    "# here are some other training routines for reference\n",
    "#training_routine = 6 x 1 x 5 x 1\n",
    "train_set_accuracy_2 = [0.87]\n",
    "test_set_accuracy_2 = [0.75]\n",
    "\n",
    "#training_routine = 6 x 1 x 100 x 1\n",
    "train_set_accuracy_3 = [1.0]\n",
    "test_set_accuracy_3 = [0.8]\n",
    "\n",
    "#training_routine = 6 x 1 x 1000 x 1\n",
    "train_set_accuracy_4 = [0.99]\n",
    "test_set_accuracy_4 = [0.79]"
   ]
  },
  {
   "cell_type": "markdown",
   "metadata": {},
   "source": [
    "### Experiment 5: do the same with a more aggresive class imbalance\n",
    "\n",
    "There is clearly a reason to use more than 1 client on a heavily imbalanced dataset (although here we also \n",
    "turn a lot the volume knob). However, is there a reason to use more than 2 clients? Reminder that we use\n",
    "simulated clients so need to run 3 times as much the test. Here we only have 1 simulated globel iteration"
   ]
  },
  {
   "cell_type": "code",
   "execution_count": 17,
   "metadata": {},
   "outputs": [
    {
     "name": "stdout",
     "output_type": "stream",
     "text": [
      "X_train: (18839, 16), y_train: (18839,), X_test: (75359, 16), y_test: (75359,)\n",
      "y_train counts: [ 8  8  8 67  8  8] ratio: [0.07476636 0.07476636 0.07476636 0.62616822 0.07476636 0.07476636]\n",
      "y_test counts: [3369 3369 3369 3369 3369 3369] ratio: [0.16666667 0.16666667 0.16666667 0.16666667 0.16666667 0.16666667]\n",
      "y_train counts: [ 9  9  9  9 72  9] ratio: [0.07692308 0.07692308 0.07692308 0.07692308 0.61538462 0.07692308]\n",
      "y_test counts: [3350 3350 3350 3350 3350 3350] ratio: [0.16666667 0.16666667 0.16666667 0.16666667 0.16666667 0.16666667]\n",
      "y_train counts: [ 8  8  8  8  8 66] ratio: [0.0754717  0.0754717  0.0754717  0.0754717  0.0754717  0.62264151]\n",
      "y_test counts: [3401 3401 3401 3401 3401 3401] ratio: [0.16666667 0.16666667 0.16666667 0.16666667 0.16666667 0.16666667]\n",
      "y_train counts: [72  9  9  9  9  9] ratio: [0.61538462 0.07692308 0.07692308 0.07692308 0.07692308 0.07692308]\n",
      "y_test counts: [3435 3435 3435 3435 3435 3435] ratio: [0.16666667 0.16666667 0.16666667 0.16666667 0.16666667 0.16666667]\n",
      "y_train counts: [ 9 70  9  9  9  9] ratio: [0.07826087 0.60869565 0.07826087 0.07826087 0.07826087 0.07826087]\n",
      "y_test counts: [3373 3373 3373 3373 3373 3373] ratio: [0.16666667 0.16666667 0.16666667 0.16666667 0.16666667 0.16666667]\n",
      "y_train counts: [ 9  9 71  9  9  9] ratio: [0.07758621 0.07758621 0.61206897 0.07758621 0.07758621 0.07758621]\n",
      "y_test counts: [3394 3394 3394 3394 3394 3394] ratio: [0.16666667 0.16666667 0.16666667 0.16666667 0.16666667 0.16666667]\n"
     ]
    }
   ],
   "source": [
    "X_train,y_train,X_test,y_test,labels = dataloading.train_test_split(df1,test_size=0.8)\n",
    "print(f\"X_train: {X_train.shape}, y_train: {y_train.shape}, X_test: {X_test.shape}, y_test: {y_test.shape}\")\n",
    "# split data to N = 6 clients\n",
    "client_data = dataloading.to_client(data=(X_train,y_train,X_test,y_test),max_clients=6)\n",
    "# we we balance the dataset and then imbalance it as we want\n",
    "class_ratio_list = [\n",
    "    [0.01, 0.01, 0.01, 0.08, 0.01, 0.01], \n",
    "    [0.01, 0.01, 0.01, 0.01, 0.08, 0.01], \n",
    "    [0.01, 0.01, 0.01, 0.01, 0.01, 0.08], \n",
    "    [0.08, 0.01, 0.01, 0.01, 0.01, 0.01], \n",
    "    [0.01, 0.08, 0.01, 0.01, 0.01, 0.01], \n",
    "    [0.01, 0.01, 0.08, 0.01, 0.01, 0.01]\n",
    "]\n",
    "\n",
    "client_data_im = []\n",
    "for idx,(X_train, y_train, X_test, y_test) in enumerate(client_data):\n",
    "    class_ratio = class_ratio_list[idx]\n",
    "    X_train_im, y_train_im, X_test_im, y_test_im = dataloading.class_imbalance((X_train,y_train,X_test,y_test),class_ratio,balance=True)\n",
    "    dataloading.print_balance(y_train_im,y_test_im)\n",
    "    client_data_im.append((X_train_im, y_train_im, X_test_im, y_test_im))\n",
    "    \n",
    "#training_routine = 6 x 2 x 5 x 10\n",
    "train_set_accuracy_1 = [0.99, 1, 1]\n",
    "test_set_accuracy_1 = [0.62, 0.618, 0.621]\n",
    "\n",
    "# here are some other training routines for reference\n",
    "#training_routine = 6 x 1 x 5 x 1\n",
    "train_set_accuracy_2 = [0.76]\n",
    "test_set_accuracy_2 = [0.31]\n",
    "\n",
    "#training_routine = 6 x 1 x 100 x 1\n",
    "train_set_accuracy_3 = [1.0]\n",
    "test_set_accuracy_3 = [0.522]\n",
    "\n",
    "#training_routine = 6 x 1 x 1000 x 1\n",
    "train_set_accuracy_4 = [1.0]\n",
    "test_set_accuracy_4 = [0.5]"
   ]
  },
  {
   "cell_type": "markdown",
   "metadata": {},
   "source": [
    "### Experiment 6: we will experiment with heavily class imbalanced dataset but one dataset will have all the data\n",
    "\n",
    "We can clearly observe the impact of the additional data, which caused a rise in the third accuracy measurement.  \n",
    "There is a clear advantage for clients with limited data resources when participating in an aggregated  \n",
    "training model, as they benefit indirectly from a more comprehensive dataset."
   ]
  },
  {
   "cell_type": "code",
   "execution_count": 18,
   "metadata": {},
   "outputs": [
    {
     "name": "stdout",
     "output_type": "stream",
     "text": [
      "X_train: (18839, 16), y_train: (18839,), X_test: (75359, 16), y_test: (75359,)\n",
      "y_train counts: [ 8  8  8 67  8  8] ratio: [0.07476636 0.07476636 0.07476636 0.62616822 0.07476636 0.07476636]\n",
      "y_test counts: [3369 3369 3369 3369 3369 3369] ratio: [0.16666667 0.16666667 0.16666667 0.16666667 0.16666667 0.16666667]\n",
      "y_train counts: [ 9  9  9  9 72  9] ratio: [0.07692308 0.07692308 0.07692308 0.07692308 0.61538462 0.07692308]\n",
      "y_test counts: [3350 3350 3350 3350 3350 3350] ratio: [0.16666667 0.16666667 0.16666667 0.16666667 0.16666667 0.16666667]\n",
      "y_train counts: [ 8  8  8  8  8 66] ratio: [0.0754717  0.0754717  0.0754717  0.0754717  0.0754717  0.62264151]\n",
      "y_test counts: [3401 3401 3401 3401 3401 3401] ratio: [0.16666667 0.16666667 0.16666667 0.16666667 0.16666667 0.16666667]\n",
      "y_train counts: [72  9  9  9  9  9] ratio: [0.61538462 0.07692308 0.07692308 0.07692308 0.07692308 0.07692308]\n",
      "y_test counts: [3435 3435 3435 3435 3435 3435] ratio: [0.16666667 0.16666667 0.16666667 0.16666667 0.16666667 0.16666667]\n",
      "y_train counts: [ 9 70  9  9  9  9] ratio: [0.07826087 0.60869565 0.07826087 0.07826087 0.07826087 0.07826087]\n",
      "y_test counts: [3373 3373 3373 3373 3373 3373] ratio: [0.16666667 0.16666667 0.16666667 0.16666667 0.16666667 0.16666667]\n",
      "y_train counts: [886 886 886 886 886 886] ratio: [0.16666667 0.16666667 0.16666667 0.16666667 0.16666667 0.16666667]\n",
      "y_test counts: [3394 3394 3394 3394 3394 3394] ratio: [0.16666667 0.16666667 0.16666667 0.16666667 0.16666667 0.16666667]\n"
     ]
    }
   ],
   "source": [
    "# training_routine = 6 x 2 x 20 x 10\n",
    "\n",
    "X_train,y_train,X_test,y_test,labels = dataloading.train_test_split(df1,test_size=0.8)\n",
    "print(f\"X_train: {X_train.shape}, y_train: {y_train.shape}, X_test: {X_test.shape}, y_test: {y_test.shape}\")\n",
    "# split data to N = 6 clients\n",
    "client_data = dataloading.to_client(data=(X_train,y_train,X_test,y_test),max_clients=6)\n",
    "# we we balance the dataset and then imbalance it as we want\n",
    "class_ratio_list = [\n",
    "    [0.01, 0.01, 0.01, 0.08, 0.01, 0.01], \n",
    "    [0.01, 0.01, 0.01, 0.01, 0.08, 0.01], \n",
    "    [0.01, 0.01, 0.01, 0.01, 0.01, 0.08], \n",
    "    [0.08, 0.01, 0.01, 0.01, 0.01, 0.01], \n",
    "    [0.01, 0.08, 0.01, 0.01, 0.01, 0.01], \n",
    "    #[0.01, 0.01, 0.08, 0.01, 0.01, 0.01]\n",
    "    [1, 1, 1, 1, 1, 1]\n",
    "]\n",
    "\n",
    "client_data_im = []\n",
    "for idx,(X_train, y_train, X_test, y_test) in enumerate(client_data):\n",
    "    class_ratio = class_ratio_list[idx]\n",
    "    X_train_im, y_train_im, X_test_im, y_test_im = dataloading.class_imbalance((X_train,y_train,X_test,y_test),class_ratio,balance=True)\n",
    "    dataloading.print_balance(y_train_im,y_test_im)\n",
    "    client_data_im.append((X_train_im, y_train_im, X_test_im, y_test_im))\n",
    "    \n",
    "    \n",
    "test_set_accuracy = [0.58, 0.57, 0.83]"
   ]
  },
  {
   "cell_type": "markdown",
   "metadata": {},
   "source": [
    "### Experiment 7: perform experiment 4 but with more iterations\n",
    "\n",
    "We want to run the experiment 4 again but let the model run for more rounds to see the accuracy trend\n",
    "\n",
    "Conlcusion:\n",
    "There is an 0.8 accuray somewhere there. This is where we addded a full extra balanced dataset\n",
    "on a client and we notice that the accuracy rise was imediate. Also, keep in mind that we train the model\n",
    "in batches of 2 clients, and we have 3 different test sets. This pattern is clearly visible in the results.\n",
    "We will also plot the accuracy trend by summing pairs of 3 test sets"
   ]
  },
  {
   "cell_type": "code",
   "execution_count": 30,
   "metadata": {},
   "outputs": [
    {
     "data": {
      "text/plain": [
       "[<matplotlib.lines.Line2D at 0x7fe0f081de10>]"
      ]
     },
     "execution_count": 30,
     "metadata": {},
     "output_type": "execute_result"
    },
    {
     "data": {
      "image/png": "[encoded data removed]",
      "text/plain": [
       "<Figure size 432x288 with 1 Axes>"
      ]
     },
     "metadata": {
      "needs_background": "light"
     },
     "output_type": "display_data"
    },
    {
     "data": {
      "image/png": "[encoded data removed]",
      "text/plain": [
       "<Figure size 432x288 with 1 Axes>"
      ]
     },
     "metadata": {
      "needs_background": "light"
     },
     "output_type": "display_data"
    }
   ],
   "source": [
    "# training_routine = 6 x 2 x 20 x 2\n",
    "test_set_accuracy = [0.58, 0.537, 0.566, 0.64, 0.59, 0.62, 0.63, 0.61, 0.62, 0.64, 0.62, 0.62\n",
    "                    ,0.634, 0.57, 0.6, 0.63, 0.61, 0.617, 0.66, 0.6, 0.618, 0.643, 0.6, 0.64\n",
    "                    ,0.62, 0.8, 0.68, 0.68, 0.799, 0.72]\n",
    "# note: there is 0.8 accuracy right there. we insert a full extra dataset in this step on the training and\n",
    "# as we see the accuracy bump is imediate. \n",
    "\n",
    "\n",
    "test_set_accuracy_sums_of_three = [sum(test_set_accuracy[i:i+3]) / 3 for i in range(0, len(test_set_accuracy), 3)]\n",
    "\n",
    "plt.plot(test_set_accuracy)\n",
    "plt.figure()\n",
    "plt.plot(test_set_accuracy_sums_of_three)"
   ]
  },
  {
   "cell_type": "code",
   "execution_count": null,
   "metadata": {},
   "outputs": [],
   "source": [
    "# what we need to test. We need to examine the effect of global_iterations of the model and how many operations\n",
    "# are enough. So we will only test it with 2 clients and we will let it run. Also, on others with cifar-10 dataset\n",
    "# what was their gains, and after how many global iters and on how many clients. "
   ]
  },
  {
   "cell_type": "markdown",
   "metadata": {},
   "source": [
    "We have a major bottleneck here. The numbers of client. on experiment 3 for example. we started from accuracy 0.744 reach 0.815 (an insignificant increase). We have to set the upper and lower limits of accuracy. On what accuracy bump and how many cliens and global iterations are we happy? .But how many clients do we need or how many global iterations till convergence??? However as showcased on experiments 1 and 2 we also we need to find a good reason first to use multiple clients or more than couple clients. When we have some significant class imbalance the benefits of using federated learning are obvious. But how many clients are enough??\n"
   ]
  },
  {
   "cell_type": "markdown",
   "metadata": {},
   "source": [
    "Comments: \n",
    "1. In Experiment 3 we started with an accuracy of 0.744 and reached 0.815, which is an insignificant increase. But what constitutes an acceptable accuracy bump, and how many clients and global iterations are required to achieve it? Additionally, how many clients or global iterations do we need to reach convergence? (We need to define the upper limits of accuracy: 0.961 (on 80% of dataset n_epochs = 100, same model))\n",
    "\n",
    "2. However, as demonstrated in Experiments 1 and 2, we must first identify a clear reason for using multiple clients or at least more than couple. When there is a significant class imbalance, the benefits of federated learning are evident. But how many clients are truly necessary?\n",
    "\n",
    "TODO:\n",
    "1. We should modify the train test split to have only a single test set\n",
    "2. There is a bottleneck with the number of client. Do something\n",
    "3. Experiment on the number of global iterations required for convergence with only 2 clients (since we currently have 2 operational clients). For reference, a paper that uses the CIFAR-10 dataset split across 5 clients conducted tests with approximately 100 global iterations (federated rounds)."
   ]
  },
  {
   "cell_type": "markdown",
   "metadata": {},
   "source": [
    "# Experiment 8:\n",
    "We will split 80% of the training data between 2 clients, with each client receiving only half of the labels in their dataset. \n",
    "The training will then run for 100 federated rounds to observe the accuracy trend. \n",
    "Parameters: n_epochs = 5, model = [10, 50, 50, 6]"
   ]
  },
  {
   "cell_type": "code",
   "execution_count": null,
   "metadata": {},
   "outputs": [],
   "source": [
    "class_ratio_list = [\n",
    "    [0.0, 0.0, 0.0, 1.0, 1.0, 1.0], \n",
    "    [1.0, 1.0, 1.0, 0.0, 0.0, 0.0]\n",
    "]\n",
    "\n",
    "client_data_im = []\n",
    "for idx,(X_train, y_train, X_test, y_test) in enumerate(client_data):\n",
    "    class_ratio = class_ratio_list[idx]\n",
    "    X_train_im, y_train_im, X_test_im, y_test_im = dataloading.class_imbalance((X_train,y_train,X_test,y_test),class_ratio,balance=True)\n",
    "    dataloading.print_balance(y_train_im,y_test_im)\n",
    "    client_data_im.append((X_train_im, y_train_im, X_test_im, y_test_im))\n",
    "\n",
    "dataloading.save_client_data(client_data_im,\"dataset_1_experiment_2\")"
   ]
  },
  {
   "cell_type": "code",
   "execution_count": 46,
   "metadata": {},
   "outputs": [
    {
     "data": {
      "text/plain": [
       "[<matplotlib.lines.Line2D at 0x7fe0f1b51b90>]"
      ]
     },
     "execution_count": 46,
     "metadata": {},
     "output_type": "execute_result"
    },
    {
     "data": {
      "image/png": "[encoded data removed]",
      "text/plain": [
       "<Figure size 432x288 with 1 Axes>"
      ]
     },
     "metadata": {
      "needs_background": "light"
     },
     "output_type": "display_data"
    }
   ],
   "source": [
    "file_path = \"/Users/admin/Desktop/dataset_1_experiment_2_results.txt\"\n",
    "with open(file_path, 'r') as file:\n",
    "    lines = file.readlines()\n",
    "\n",
    "accuracies = []\n",
    "\n",
    "for line in lines:\n",
    "    if \"global model accuracy on test set:\" in line:\n",
    "        accuracy = line.split(\":\")[-1].strip().split(\"%s\")[-1].strip()\n",
    "        accuracies.append(round(float(accuracy), 3)) \n",
    "\n",
    "plt.plot(accuracies)"
   ]
  },
  {
   "cell_type": "markdown",
   "metadata": {},
   "source": [
    "## experiment 9: same test, less n_epochs, more rounds\n",
    "We set n_epochs to 1 to avoid overfitting on non i.i.d. data and let FedAvg do its thing. After many rounds (50+), \n",
    "we are starting to see the gains. A positive index on why to use Federated Learning on our type of problem"
   ]
  },
  {
   "cell_type": "code",
   "execution_count": 56,
   "metadata": {},
   "outputs": [
    {
     "name": "stdout",
     "output_type": "stream",
     "text": [
      "0.6972\n"
     ]
    },
    {
     "data": {
      "image/png": "[encoded data removed]",
      "text/plain": [
       "<Figure size 432x288 with 1 Axes>"
      ]
     },
     "metadata": {
      "needs_background": "light"
     },
     "output_type": "display_data"
    }
   ],
   "source": [
    "file_path = \"/Users/admin/Desktop/experiment10.txt\"\n",
    "with open(file_path, 'r') as file:\n",
    "    accuracy_list = [round(float(line.strip()), 4) for line in file]\n",
    "\n",
    "plt.plot(accuracy_list)\n",
    "\n",
    "print(max(accuracy_list))"
   ]
  },
  {
   "cell_type": "markdown",
   "metadata": {},
   "source": [
    "### Experiment 10: same as 9 but with bigger model := [10, 100, 100, 6]\n",
    "\n"
   ]
  },
  {
   "cell_type": "code",
   "execution_count": 4,
   "metadata": {},
   "outputs": [
    {
     "name": "stdout",
     "output_type": "stream",
     "text": [
      "0.7891\n"
     ]
    },
    {
     "data": {
      "image/png": "[encoded data removed]",
      "text/plain": [
       "<Figure size 432x288 with 1 Axes>"
      ]
     },
     "metadata": {
      "needs_background": "light"
     },
     "output_type": "display_data"
    }
   ],
   "source": [
    "file_path = \"/Users/admin/Desktop/experiment11.txt\"\n",
    "with open(file_path, 'r') as file:\n",
    "    accuracy_list = [round(float(line.strip()), 4) for line in file]\n",
    "\n",
    "plt.plot(accuracy_list)\n",
    "print(max(accuracy_list))"
   ]
  }
 ],
 "metadata": {
  "kernelspec": {
   "display_name": "Python 3",
   "language": "python",
   "name": "python3"
  },
  "language_info": {
   "codemirror_mode": {
    "name": "ipython",
    "version": 3
   },
   "file_extension": ".py",
   "mimetype": "text/x-python",
   "name": "python",
   "nbconvert_exporter": "python",
   "pygments_lexer": "ipython3",
   "version": "3.7.6"
  }
 },
 "nbformat": 4,
 "nbformat_minor": 4
}
