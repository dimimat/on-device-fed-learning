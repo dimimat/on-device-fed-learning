{
 "cells": [
  {
   "cell_type": "markdown",
   "metadata": {},
   "source": [
    "# HAR Non-IID Class Imbalance Experiments\n",
    "This notebook explores the impact of non-IID data distributions and class imbalance on training classifiers for Human Activity Recognition (HAR). The dataset is split into multiple clients (2, 6, or 35) with varying class ratios to create challenging learning scenarios.\n",
    "\n",
    "The goal is to analyze how non-IID distributions and aggressive class imbalances affect model performance, making learning more difficult for a classifier."
   ]
  },
  {
   "cell_type": "code",
   "execution_count": 1,
   "metadata": {},
   "outputs": [],
   "source": [
    "import numpy as np\n",
    "import matplotlib.pyplot as plt\n",
    "import pandas as pd\n",
    "import dataloading\n",
    "import os\n",
    "from sklearn.decomposition import PCA\n",
    "import torch"
   ]
  },
  {
   "cell_type": "code",
   "execution_count": 2,
   "metadata": {},
   "outputs": [
    {
     "data": {
      "text/html": [
       "<div>\n",
       "<style scoped>\n",
       "    .dataframe tbody tr th:only-of-type {\n",
       "        vertical-align: middle;\n",
       "    }\n",
       "\n",
       "    .dataframe tbody tr th {\n",
       "        vertical-align: top;\n",
       "    }\n",
       "\n",
       "    .dataframe thead th {\n",
       "        text-align: right;\n",
       "    }\n",
       "</style>\n",
       "<table border=\"1\" class=\"dataframe\">\n",
       "  <thead>\n",
       "    <tr style=\"text-align: right;\">\n",
       "      <th></th>\n",
       "      <th>AG-X</th>\n",
       "      <th>AG-Y</th>\n",
       "      <th>AG-Z</th>\n",
       "      <th>Acc-X</th>\n",
       "      <th>Acc-Y</th>\n",
       "      <th>Acc-Z</th>\n",
       "      <th>Gravity-X</th>\n",
       "      <th>Gravity-Y</th>\n",
       "      <th>Gravity-Z</th>\n",
       "      <th>RR-X</th>\n",
       "      <th>RR-Y</th>\n",
       "      <th>RR-Z</th>\n",
       "      <th>RV-X</th>\n",
       "      <th>RV-Y</th>\n",
       "      <th>RV-Z</th>\n",
       "      <th>cos</th>\n",
       "      <th>activity</th>\n",
       "    </tr>\n",
       "  </thead>\n",
       "  <tbody>\n",
       "    <tr>\n",
       "      <th>0</th>\n",
       "      <td>-9.494311</td>\n",
       "      <td>5.423363</td>\n",
       "      <td>0.196757</td>\n",
       "      <td>-1.684995</td>\n",
       "      <td>0.401508</td>\n",
       "      <td>1.334339</td>\n",
       "      <td>-8.855526</td>\n",
       "      <td>4.199663</td>\n",
       "      <td>-0.335983</td>\n",
       "      <td>-0.762366</td>\n",
       "      <td>-0.750471</td>\n",
       "      <td>1.109060</td>\n",
       "      <td>0.232662</td>\n",
       "      <td>0.672025</td>\n",
       "      <td>0.101603</td>\n",
       "      <td>0.695649</td>\n",
       "      <td>Running</td>\n",
       "    </tr>\n",
       "    <tr>\n",
       "      <th>1</th>\n",
       "      <td>-8.890651</td>\n",
       "      <td>2.520043</td>\n",
       "      <td>0.963310</td>\n",
       "      <td>-0.895032</td>\n",
       "      <td>-1.936677</td>\n",
       "      <td>1.436671</td>\n",
       "      <td>-8.399648</td>\n",
       "      <td>5.060810</td>\n",
       "      <td>0.067106</td>\n",
       "      <td>-0.613229</td>\n",
       "      <td>-0.121966</td>\n",
       "      <td>1.906942</td>\n",
       "      <td>0.245168</td>\n",
       "      <td>0.660660</td>\n",
       "      <td>0.131849</td>\n",
       "      <td>0.697164</td>\n",
       "      <td>Running</td>\n",
       "    </tr>\n",
       "    <tr>\n",
       "      <th>2</th>\n",
       "      <td>-5.632800</td>\n",
       "      <td>1.581015</td>\n",
       "      <td>0.230293</td>\n",
       "      <td>2.350318</td>\n",
       "      <td>-3.642859</td>\n",
       "      <td>-1.169414</td>\n",
       "      <td>-7.911231</td>\n",
       "      <td>5.790931</td>\n",
       "      <td>0.218930</td>\n",
       "      <td>-0.142383</td>\n",
       "      <td>-0.352063</td>\n",
       "      <td>1.759936</td>\n",
       "      <td>0.264845</td>\n",
       "      <td>0.648175</td>\n",
       "      <td>0.163016</td>\n",
       "      <td>0.695091</td>\n",
       "      <td>Running</td>\n",
       "    </tr>\n",
       "    <tr>\n",
       "      <th>3</th>\n",
       "      <td>-6.322698</td>\n",
       "      <td>6.228244</td>\n",
       "      <td>-0.756644</td>\n",
       "      <td>0.812825</td>\n",
       "      <td>-0.722664</td>\n",
       "      <td>-0.334024</td>\n",
       "      <td>-7.523226</td>\n",
       "      <td>6.280006</td>\n",
       "      <td>0.364660</td>\n",
       "      <td>-0.148775</td>\n",
       "      <td>-0.382955</td>\n",
       "      <td>1.208129</td>\n",
       "      <td>0.299550</td>\n",
       "      <td>0.624335</td>\n",
       "      <td>0.195080</td>\n",
       "      <td>0.694564</td>\n",
       "      <td>Running</td>\n",
       "    </tr>\n",
       "    <tr>\n",
       "      <th>4</th>\n",
       "      <td>-7.640211</td>\n",
       "      <td>4.862821</td>\n",
       "      <td>1.715490</td>\n",
       "      <td>0.349670</td>\n",
       "      <td>-0.468074</td>\n",
       "      <td>-0.378780</td>\n",
       "      <td>-6.921238</td>\n",
       "      <td>6.909286</td>\n",
       "      <td>0.727059</td>\n",
       "      <td>-1.047857</td>\n",
       "      <td>0.379773</td>\n",
       "      <td>0.828895</td>\n",
       "      <td>0.310003</td>\n",
       "      <td>0.607825</td>\n",
       "      <td>0.220415</td>\n",
       "      <td>0.697039</td>\n",
       "      <td>Running</td>\n",
       "    </tr>\n",
       "  </tbody>\n",
       "</table>\n",
       "</div>"
      ],
      "text/plain": [
       "       AG-X      AG-Y      AG-Z     Acc-X     Acc-Y     Acc-Z  Gravity-X  \\\n",
       "0 -9.494311  5.423363  0.196757 -1.684995  0.401508  1.334339  -8.855526   \n",
       "1 -8.890651  2.520043  0.963310 -0.895032 -1.936677  1.436671  -8.399648   \n",
       "2 -5.632800  1.581015  0.230293  2.350318 -3.642859 -1.169414  -7.911231   \n",
       "3 -6.322698  6.228244 -0.756644  0.812825 -0.722664 -0.334024  -7.523226   \n",
       "4 -7.640211  4.862821  1.715490  0.349670 -0.468074 -0.378780  -6.921238   \n",
       "\n",
       "   Gravity-Y  Gravity-Z      RR-X      RR-Y      RR-Z      RV-X      RV-Y  \\\n",
       "0   4.199663  -0.335983 -0.762366 -0.750471  1.109060  0.232662  0.672025   \n",
       "1   5.060810   0.067106 -0.613229 -0.121966  1.906942  0.245168  0.660660   \n",
       "2   5.790931   0.218930 -0.142383 -0.352063  1.759936  0.264845  0.648175   \n",
       "3   6.280006   0.364660 -0.148775 -0.382955  1.208129  0.299550  0.624335   \n",
       "4   6.909286   0.727059 -1.047857  0.379773  0.828895  0.310003  0.607825   \n",
       "\n",
       "       RV-Z       cos activity  \n",
       "0  0.101603  0.695649  Running  \n",
       "1  0.131849  0.697164  Running  \n",
       "2  0.163016  0.695091  Running  \n",
       "3  0.195080  0.694564  Running  \n",
       "4  0.220415  0.697039  Running  "
      ]
     },
     "execution_count": 2,
     "metadata": {},
     "output_type": "execute_result"
    }
   ],
   "source": [
    "df1 = dataloading.load_data1()\n",
    "df1.head()"
   ]
  },
  {
   "cell_type": "code",
   "execution_count": 3,
   "metadata": {},
   "outputs": [],
   "source": [
    "#client_data = dataloading.to_client(data=(X_train,y_train,X_test,y_test),max_clients=1)\n",
    "#dataloading.save_client_data(client_data,\"dataset_1_experiment_3\")\n",
    "# let see class imbalance between client data\n",
    "# for X_train, y_train, X_test, y_test in client_data:\n",
    "#     print(\"=================\")\n",
    "#     dataloading.print_balance(y_train,y_test)"
   ]
  },
  {
   "cell_type": "markdown",
   "metadata": {},
   "source": [
    "### experiment 2: insert class imbalance"
   ]
  },
  {
   "cell_type": "code",
   "execution_count": 3,
   "metadata": {},
   "outputs": [
    {
     "name": "stdout",
     "output_type": "stream",
     "text": [
      "X_train: (75358, 16), y_train: (75358,), X_test: (18840, 16), y_test: (18840,)\n"
     ]
    }
   ],
   "source": [
    "X_train,y_train,X_test,y_test,labels = dataloading.train_test_split(df1,test_size=0.2)\n",
    "print(f\"X_train: {X_train.shape}, y_train: {y_train.shape}, X_test: {X_test.shape}, y_test: {y_test.shape}\")"
   ]
  },
  {
   "cell_type": "code",
   "execution_count": 4,
   "metadata": {},
   "outputs": [],
   "source": [
    "client_data = dataloading.to_client(data=(X_train,y_train,X_test,y_test),max_clients=2)\n",
    "# dataloading.save_client_data(client_data,\"dataset_1_experiment_1\")"
   ]
  },
  {
   "cell_type": "code",
   "execution_count": 85,
   "metadata": {},
   "outputs": [
    {
     "name": "stdout",
     "output_type": "stream",
     "text": [
      "y_train counts: [ 84 168 253 674 674 674] ratio: [0.033241   0.06648199 0.10011872 0.26671943 0.26671943 0.26671943]\n",
      "y_test counts: [3369 3369 3369 3369 3369 3369] ratio: [0.16666667 0.16666667 0.16666667 0.16666667 0.16666667 0.16666667]\n",
      "y_train counts: [718  90 180 269 718 718] ratio: [0.26661716 0.03341998 0.06683996 0.0998886  0.26661716 0.26661716]\n",
      "y_test counts: [3350 3350 3350 3350 3350 3350] ratio: [0.16666667 0.16666667 0.16666667 0.16666667 0.16666667 0.16666667]\n",
      "y_train counts: [659 659  82 165 247 659] ratio: [0.26669365 0.26669365 0.03318495 0.06677459 0.09995953 0.26669365]\n",
      "y_test counts: [3401 3401 3401 3401 3401 3401] ratio: [0.16666667 0.16666667 0.16666667 0.16666667 0.16666667 0.16666667]\n",
      "y_train counts: [718 718 718  90 180 269] ratio: [0.26661716 0.26661716 0.26661716 0.03341998 0.06683996 0.0998886 ]\n",
      "y_test counts: [3435 3435 3435 3435 3435 3435] ratio: [0.16666667 0.16666667 0.16666667 0.16666667 0.16666667 0.16666667]\n",
      "y_train counts: [262 700 700 700  88 175] ratio: [0.09980952 0.26666667 0.26666667 0.26666667 0.03352381 0.06666667]\n",
      "y_test counts: [3373 3373 3373 3373 3373 3373] ratio: [0.16666667 0.16666667 0.16666667 0.16666667 0.16666667 0.16666667]\n",
      "y_train counts: [177 266 709 709 709  89] ratio: [0.06656638 0.10003761 0.26664159 0.26664159 0.26664159 0.03347123]\n",
      "y_test counts: [3394 3394 3394 3394 3394 3394] ratio: [0.16666667 0.16666667 0.16666667 0.16666667 0.16666667 0.16666667]\n"
     ]
    }
   ],
   "source": [
    "# we we balance the dataset and then imbalance it as we want\n",
    "class_ratio_list = [\n",
    "    [0.1, 0.1, 0.1, 0.8, 0.1, 0.8], \n",
    "    [0.8, 0.1, 0.2, 0.3, 0.8, 0.8]\n",
    "]\n",
    "\n",
    "client_data_im = []\n",
    "for idx,(X_train, y_train, X_test, y_test) in enumerate(client_data):\n",
    "    class_ratio = class_ratio_list[idx]\n",
    "    X_train_im, y_train_im, X_test_im, y_test_im = dataloading.class_imbalance((X_train,y_train,X_test,y_test),class_ratio,balance=True)\n",
    "    dataloading.print_balance(y_train_im,y_test_im)\n",
    "    client_data_im.append((X_train_im, y_train_im, X_test_im, y_test_im))"
   ]
  },
  {
   "cell_type": "code",
   "execution_count": 86,
   "metadata": {},
   "outputs": [],
   "source": [
    "dataloading.save_client_data(client_data_im,\"dataset_1_experiment_4\")"
   ]
  },
  {
   "cell_type": "markdown",
   "metadata": {},
   "source": [
    "### experiment 3: more aggresive class imbalance"
   ]
  },
  {
   "cell_type": "code",
   "execution_count": 3,
   "metadata": {},
   "outputs": [
    {
     "name": "stdout",
     "output_type": "stream",
     "text": [
      "X_train: (18839, 16), y_train: (18839,), X_test: (75359, 16), y_test: (75359,)\n",
      "y_train counts: [ 8  8  8 67  8  8] ratio: [0.07476636 0.07476636 0.07476636 0.62616822 0.07476636 0.07476636]\n",
      "y_test counts: [3369 3369 3369 3369 3369 3369] ratio: [0.16666667 0.16666667 0.16666667 0.16666667 0.16666667 0.16666667]\n",
      "y_train counts: [ 9  9  9  9 72  9] ratio: [0.07692308 0.07692308 0.07692308 0.07692308 0.61538462 0.07692308]\n",
      "y_test counts: [3350 3350 3350 3350 3350 3350] ratio: [0.16666667 0.16666667 0.16666667 0.16666667 0.16666667 0.16666667]\n",
      "y_train counts: [ 8  8  8  8  8 66] ratio: [0.0754717  0.0754717  0.0754717  0.0754717  0.0754717  0.62264151]\n",
      "y_test counts: [3401 3401 3401 3401 3401 3401] ratio: [0.16666667 0.16666667 0.16666667 0.16666667 0.16666667 0.16666667]\n",
      "y_train counts: [72  9  9  9  9  9] ratio: [0.61538462 0.07692308 0.07692308 0.07692308 0.07692308 0.07692308]\n",
      "y_test counts: [3435 3435 3435 3435 3435 3435] ratio: [0.16666667 0.16666667 0.16666667 0.16666667 0.16666667 0.16666667]\n",
      "y_train counts: [ 9 70  9  9  9  9] ratio: [0.07826087 0.60869565 0.07826087 0.07826087 0.07826087 0.07826087]\n",
      "y_test counts: [3373 3373 3373 3373 3373 3373] ratio: [0.16666667 0.16666667 0.16666667 0.16666667 0.16666667 0.16666667]\n",
      "y_train counts: [ 9  9 71  9  9  9] ratio: [0.07758621 0.07758621 0.61206897 0.07758621 0.07758621 0.07758621]\n",
      "y_test counts: [3394 3394 3394 3394 3394 3394] ratio: [0.16666667 0.16666667 0.16666667 0.16666667 0.16666667 0.16666667]\n"
     ]
    }
   ],
   "source": [
    "X_train,y_train,X_test,y_test,labels = dataloading.train_test_split(df1,test_size=0.8)\n",
    "print(f\"X_train: {X_train.shape}, y_train: {y_train.shape}, X_test: {X_test.shape}, y_test: {y_test.shape}\")\n",
    "# split data to N = 6 clients\n",
    "client_data = dataloading.to_client(data=(X_train,y_train,X_test,y_test),max_clients=6)\n",
    "# we we balance the dataset and then imbalance it as we want\n",
    "class_ratio_list = [\n",
    "    [0.01, 0.01, 0.01, 0.08, 0.01, 0.01], \n",
    "    [0.01, 0.01, 0.01, 0.01, 0.08, 0.01], \n",
    "    [0.01, 0.01, 0.01, 0.01, 0.01, 0.08], \n",
    "    [0.08, 0.01, 0.01, 0.01, 0.01, 0.01], \n",
    "    [0.01, 0.08, 0.01, 0.01, 0.01, 0.01], \n",
    "    [0.01, 0.01, 0.08, 0.01, 0.01, 0.01]\n",
    "    #[0.1, 1, 1, 1, 1, 1]\n",
    "]\n",
    "\n",
    "client_data_im = []\n",
    "for idx,(X_train, y_train, X_test, y_test) in enumerate(client_data):\n",
    "    class_ratio = class_ratio_list[idx]\n",
    "    X_train_im, y_train_im, X_test_im, y_test_im = dataloading.class_imbalance((X_train,y_train,X_test,y_test),class_ratio,balance=True)\n",
    "    dataloadingr.print_balance(y_train_im,y_test_im)\n",
    "    client_data_im.append((X_train_im, y_train_im, X_test_im, y_test_im))   \n",
    "    \n",
    "dataloading.save_client_data(client_data_im,\"dataset_1_experiment_5\")"
   ]
  },
  {
   "cell_type": "markdown",
   "metadata": {},
   "source": [
    "### experiment 4: there is not motive to use more than 2 clients. problem is too easy. Make it more class imbalance"
   ]
  },
  {
   "cell_type": "code",
   "execution_count": 102,
   "metadata": {},
   "outputs": [
    {
     "name": "stdout",
     "output_type": "stream",
     "text": [
      "X_train: (18839, 16), y_train: (18839,), X_test: (75359, 16), y_test: (75359,)\n",
      "y_train counts: [674   8   8   8   8   8] ratio: [0.94397759 0.01120448 0.01120448 0.01120448 0.01120448 0.01120448]\n",
      "y_test counts: [3369 3369 3369 3369 3369 3369] ratio: [0.16666667 0.16666667 0.16666667 0.16666667 0.16666667 0.16666667]\n",
      "y_train counts: [  9 718   9   9   9   9] ratio: [0.01179554 0.94102228 0.01179554 0.01179554 0.01179554 0.01179554]\n",
      "y_test counts: [3350 3350 3350 3350 3350 3350] ratio: [0.16666667 0.16666667 0.16666667 0.16666667 0.16666667 0.16666667]\n",
      "y_train counts: [659 659 659 659 659 659] ratio: [0.16666667 0.16666667 0.16666667 0.16666667 0.16666667 0.16666667]\n",
      "y_test counts: [3401 3401 3401 3401 3401 3401] ratio: [0.16666667 0.16666667 0.16666667 0.16666667 0.16666667 0.16666667]\n",
      "y_train counts: [  9   9   9 718   9   9] ratio: [0.01179554 0.01179554 0.01179554 0.94102228 0.01179554 0.01179554]\n",
      "y_test counts: [3435 3435 3435 3435 3435 3435] ratio: [0.16666667 0.16666667 0.16666667 0.16666667 0.16666667 0.16666667]\n",
      "y_train counts: [  9   9   9   9 700   9] ratio: [0.01208054 0.01208054 0.01208054 0.01208054 0.93959732 0.01208054]\n",
      "y_test counts: [3373 3373 3373 3373 3373 3373] ratio: [0.16666667 0.16666667 0.16666667 0.16666667 0.16666667 0.16666667]\n",
      "y_train counts: [  9   9   9   9   9 709] ratio: [0.01193634 0.01193634 0.01193634 0.01193634 0.01193634 0.9403183 ]\n",
      "y_test counts: [3394 3394 3394 3394 3394 3394] ratio: [0.16666667 0.16666667 0.16666667 0.16666667 0.16666667 0.16666667]\n"
     ]
    }
   ],
   "source": [
    "X_train,y_train,X_test,y_test,labels = dataloading.train_test_split(df1,test_size=0.8)\n",
    "print(f\"X_train: {X_train.shape}, y_train: {y_train.shape}, X_test: {X_test.shape}, y_test: {y_test.shape}\")\n",
    "# split data to N = 6 clients\n",
    "client_data = dataloading.to_client(data=(X_train,y_train,X_test,y_test),max_clients=6)\n",
    "# we we balance the dataset and then imbalance it as we want\n",
    "class_ratio_list = [\n",
    "    [0.8, 0.01, 0.01, 0.01, 0.01, 0.01], \n",
    "    [0.01, 0.8, 0.01, 0.01, 0.01, 0.01], \n",
    "    #[0.01, 0.01, 0.8, 0.01, 0.01, 0.01],\n",
    "    [0.8, 0.8, 0.8, 0.8, 0.8, 0.8], \n",
    "    [0.01, 0.01, 0.01, 0.8, 0.01, 0.01], \n",
    "    [0.01, 0.01, 0.01, 0.01, 0.8, 0.01], \n",
    "    [0.01, 0.01, 0.01, 0.01, 0.01, 0.8]\n",
    "]\n",
    "client_data_im = []\n",
    "for idx,(X_train, y_train, X_test, y_test) in enumerate(client_data):\n",
    "    class_ratio = class_ratio_list[idx]\n",
    "    X_train_im, y_train_im, X_test_im, y_test_im = dataloading.class_imbalance((X_train,y_train,X_test,y_test),class_ratio,balance=True)\n",
    "    dataloading.print_balance(y_train_im,y_test_im)\n",
    "    client_data_im.append((X_train_im, y_train_im, X_test_im, y_test_im))   \n",
    "    \n",
    "dataloading.save_client_data(client_data_im,\"dataset_1_experiment_6\")"
   ]
  },
  {
   "cell_type": "code",
   "execution_count": null,
   "metadata": {},
   "outputs": [],
   "source": [
    "# experiment 7. Split the dataset to 35 clients and train only 1 client"
   ]
  },
  {
   "cell_type": "code",
   "execution_count": 3,
   "metadata": {},
   "outputs": [
    {
     "data": {
      "text/html": [
       "<div>\n",
       "<style scoped>\n",
       "    .dataframe tbody tr th:only-of-type {\n",
       "        vertical-align: middle;\n",
       "    }\n",
       "\n",
       "    .dataframe tbody tr th {\n",
       "        vertical-align: top;\n",
       "    }\n",
       "\n",
       "    .dataframe thead th {\n",
       "        text-align: right;\n",
       "    }\n",
       "</style>\n",
       "<table border=\"1\" class=\"dataframe\">\n",
       "  <thead>\n",
       "    <tr style=\"text-align: right;\">\n",
       "      <th></th>\n",
       "      <th>AG-X</th>\n",
       "      <th>AG-Y</th>\n",
       "      <th>AG-Z</th>\n",
       "      <th>Acc-X</th>\n",
       "      <th>Acc-Y</th>\n",
       "      <th>Acc-Z</th>\n",
       "      <th>Gravity-X</th>\n",
       "      <th>Gravity-Y</th>\n",
       "      <th>Gravity-Z</th>\n",
       "      <th>RR-X</th>\n",
       "      <th>RR-Y</th>\n",
       "      <th>RR-Z</th>\n",
       "      <th>RV-X</th>\n",
       "      <th>RV-Y</th>\n",
       "      <th>RV-Z</th>\n",
       "      <th>cos</th>\n",
       "      <th>activity</th>\n",
       "    </tr>\n",
       "  </thead>\n",
       "  <tbody>\n",
       "    <tr>\n",
       "      <th>0</th>\n",
       "      <td>-9.494311</td>\n",
       "      <td>5.423363</td>\n",
       "      <td>0.196757</td>\n",
       "      <td>-1.684995</td>\n",
       "      <td>0.401508</td>\n",
       "      <td>1.334339</td>\n",
       "      <td>-8.855526</td>\n",
       "      <td>4.199663</td>\n",
       "      <td>-0.335983</td>\n",
       "      <td>-0.762366</td>\n",
       "      <td>-0.750471</td>\n",
       "      <td>1.109060</td>\n",
       "      <td>0.232662</td>\n",
       "      <td>0.672025</td>\n",
       "      <td>0.101603</td>\n",
       "      <td>0.695649</td>\n",
       "      <td>Running</td>\n",
       "    </tr>\n",
       "    <tr>\n",
       "      <th>1</th>\n",
       "      <td>-8.890651</td>\n",
       "      <td>2.520043</td>\n",
       "      <td>0.963310</td>\n",
       "      <td>-0.895032</td>\n",
       "      <td>-1.936677</td>\n",
       "      <td>1.436671</td>\n",
       "      <td>-8.399648</td>\n",
       "      <td>5.060810</td>\n",
       "      <td>0.067106</td>\n",
       "      <td>-0.613229</td>\n",
       "      <td>-0.121966</td>\n",
       "      <td>1.906942</td>\n",
       "      <td>0.245168</td>\n",
       "      <td>0.660660</td>\n",
       "      <td>0.131849</td>\n",
       "      <td>0.697164</td>\n",
       "      <td>Running</td>\n",
       "    </tr>\n",
       "    <tr>\n",
       "      <th>2</th>\n",
       "      <td>-5.632800</td>\n",
       "      <td>1.581015</td>\n",
       "      <td>0.230293</td>\n",
       "      <td>2.350318</td>\n",
       "      <td>-3.642859</td>\n",
       "      <td>-1.169414</td>\n",
       "      <td>-7.911231</td>\n",
       "      <td>5.790931</td>\n",
       "      <td>0.218930</td>\n",
       "      <td>-0.142383</td>\n",
       "      <td>-0.352063</td>\n",
       "      <td>1.759936</td>\n",
       "      <td>0.264845</td>\n",
       "      <td>0.648175</td>\n",
       "      <td>0.163016</td>\n",
       "      <td>0.695091</td>\n",
       "      <td>Running</td>\n",
       "    </tr>\n",
       "    <tr>\n",
       "      <th>3</th>\n",
       "      <td>-6.322698</td>\n",
       "      <td>6.228244</td>\n",
       "      <td>-0.756644</td>\n",
       "      <td>0.812825</td>\n",
       "      <td>-0.722664</td>\n",
       "      <td>-0.334024</td>\n",
       "      <td>-7.523226</td>\n",
       "      <td>6.280006</td>\n",
       "      <td>0.364660</td>\n",
       "      <td>-0.148775</td>\n",
       "      <td>-0.382955</td>\n",
       "      <td>1.208129</td>\n",
       "      <td>0.299550</td>\n",
       "      <td>0.624335</td>\n",
       "      <td>0.195080</td>\n",
       "      <td>0.694564</td>\n",
       "      <td>Running</td>\n",
       "    </tr>\n",
       "    <tr>\n",
       "      <th>4</th>\n",
       "      <td>-7.640211</td>\n",
       "      <td>4.862821</td>\n",
       "      <td>1.715490</td>\n",
       "      <td>0.349670</td>\n",
       "      <td>-0.468074</td>\n",
       "      <td>-0.378780</td>\n",
       "      <td>-6.921238</td>\n",
       "      <td>6.909286</td>\n",
       "      <td>0.727059</td>\n",
       "      <td>-1.047857</td>\n",
       "      <td>0.379773</td>\n",
       "      <td>0.828895</td>\n",
       "      <td>0.310003</td>\n",
       "      <td>0.607825</td>\n",
       "      <td>0.220415</td>\n",
       "      <td>0.697039</td>\n",
       "      <td>Running</td>\n",
       "    </tr>\n",
       "  </tbody>\n",
       "</table>\n",
       "</div>"
      ],
      "text/plain": [
       "       AG-X      AG-Y      AG-Z     Acc-X     Acc-Y     Acc-Z  Gravity-X  \\\n",
       "0 -9.494311  5.423363  0.196757 -1.684995  0.401508  1.334339  -8.855526   \n",
       "1 -8.890651  2.520043  0.963310 -0.895032 -1.936677  1.436671  -8.399648   \n",
       "2 -5.632800  1.581015  0.230293  2.350318 -3.642859 -1.169414  -7.911231   \n",
       "3 -6.322698  6.228244 -0.756644  0.812825 -0.722664 -0.334024  -7.523226   \n",
       "4 -7.640211  4.862821  1.715490  0.349670 -0.468074 -0.378780  -6.921238   \n",
       "\n",
       "   Gravity-Y  Gravity-Z      RR-X      RR-Y      RR-Z      RV-X      RV-Y  \\\n",
       "0   4.199663  -0.335983 -0.762366 -0.750471  1.109060  0.232662  0.672025   \n",
       "1   5.060810   0.067106 -0.613229 -0.121966  1.906942  0.245168  0.660660   \n",
       "2   5.790931   0.218930 -0.142383 -0.352063  1.759936  0.264845  0.648175   \n",
       "3   6.280006   0.364660 -0.148775 -0.382955  1.208129  0.299550  0.624335   \n",
       "4   6.909286   0.727059 -1.047857  0.379773  0.828895  0.310003  0.607825   \n",
       "\n",
       "       RV-Z       cos activity  \n",
       "0  0.101603  0.695649  Running  \n",
       "1  0.131849  0.697164  Running  \n",
       "2  0.163016  0.695091  Running  \n",
       "3  0.195080  0.694564  Running  \n",
       "4  0.220415  0.697039  Running  "
      ]
     },
     "execution_count": 3,
     "metadata": {},
     "output_type": "execute_result"
    }
   ],
   "source": [
    "# experiment 8: 2 clients. half - half samples. Let it run\n",
    "df1 = dataloading.load_data1()\n",
    "df1.head()"
   ]
  },
  {
   "cell_type": "code",
   "execution_count": 4,
   "metadata": {},
   "outputs": [
    {
     "name": "stdout",
     "output_type": "stream",
     "text": [
      "X_train: (75358, 16), y_train: (75358,), X_test: (18840, 16), y_test: (18840,)\n"
     ]
    }
   ],
   "source": [
    "X_train,y_train,X_test,y_test,labels = dataloading.train_test_split(df1,test_size=0.2)\n",
    "print(f\"X_train: {X_train.shape}, y_train: {y_train.shape}, X_test: {X_test.shape}, y_test: {y_test.shape}\")"
   ]
  },
  {
   "cell_type": "code",
   "execution_count": 5,
   "metadata": {},
   "outputs": [],
   "source": [
    "client_data = dataloading.to_client(data=(X_train,y_train,X_test,y_test),max_clients=2)\n",
    "# dataloading.save_client_data(client_data,\"dataset_1_experiment_1\")"
   ]
  },
  {
   "cell_type": "code",
   "execution_count": 8,
   "metadata": {},
   "outputs": [
    {
     "name": "stdout",
     "output_type": "stream",
     "text": [
      "y_train counts: [10333     0     0 10333     0 10333] ratio: [0.33333333 0.         0.         0.33333333 0.         0.33333333]\n",
      "y_test counts: [2489 2489 2489 2489 2489 2489] ratio: [0.16666667 0.16666667 0.16666667 0.16666667 0.16666667 0.16666667]\n",
      "y_train counts: [10014     0     0 10014     0 10014] ratio: [0.33333333 0.         0.         0.33333333 0.         0.33333333]\n",
      "y_test counts: [2471 2471 2471 2471 2471 2471] ratio: [0.16666667 0.16666667 0.16666667 0.16666667 0.16666667 0.16666667]\n"
     ]
    }
   ],
   "source": [
    "# we we balance the dataset and then imbalance it as we want\n",
    "class_ratio_list = [\n",
    "    [0.0, 0.0, 0.0, 1.0, 1.0, 1.0], \n",
    "    [1.0, 1.0, 1.0, 0.0, 0.0, 0.0]\n",
    "]\n",
    "\n",
    "client_data_im = []\n",
    "for idx,(X_train, y_train, X_test, y_test) in enumerate(client_data):\n",
    "    class_ratio = class_ratio_list[idx]\n",
    "    X_train_im, y_train_im, X_test_im, y_test_im = dataloading.class_imbalance((X_train,y_train,X_test,y_test),class_ratio,balance=True)\n",
    "    dataloading.print_balance(y_train_im,y_test_im)\n",
    "    client_data_im.append((X_train_im, y_train_im, X_test_im, y_test_im))\n",
    "\n",
    "dataloading.save_client_data(client_data_im,\"dataset_1_experiment_2\")"
   ]
  },
  {
   "cell_type": "code",
   "execution_count": null,
   "metadata": {},
   "outputs": [],
   "source": []
  }
 ],
 "metadata": {
  "kernelspec": {
   "display_name": "Python 3",
   "language": "python",
   "name": "python3"
  },
  "language_info": {
   "codemirror_mode": {
    "name": "ipython",
    "version": 3
   },
   "file_extension": ".py",
   "mimetype": "text/x-python",
   "name": "python",
   "nbconvert_exporter": "python",
   "pygments_lexer": "ipython3",
   "version": "3.7.6"
  }
 },
 "nbformat": 4,
 "nbformat_minor": 4
}
