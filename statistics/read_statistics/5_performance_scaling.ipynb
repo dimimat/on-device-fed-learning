{
 "cells": [
  {
   "cell_type": "code",
   "execution_count": 5,
   "metadata": {},
   "outputs": [],
   "source": [
    "import csv\n",
    "import json\n",
    "import numpy as np\n",
    "import pandas as pd\n",
    "import matplotlib.pyplot as plt\n",
    "from sklearn.metrics import confusion_matrix, classification_report, log_loss\n",
    "import seaborn as sns\n",
    "import os\n",
    "import ast\n",
    "import sys\n",
    "import re\n",
    "from statistics import mean, stdev\n",
    "statistics_path = os.path.abspath(\"../\")\n",
    "sys.path.append(statistics_path)\n",
    "import stats_utils"
   ]
  },
  {
   "cell_type": "code",
   "execution_count": 6,
   "metadata": {},
   "outputs": [],
   "source": [
    "path_to_exp_statistics = \"/Users/admin/Desktop/thesis/dataset/metrics/\"\n",
    "path_to_exp_images = \"/Users/admin/Desktop/thesis_writing/experiment_images/performance_exp/5_client_scaling/\""
   ]
  },
  {
   "cell_type": "markdown",
   "metadata": {},
   "source": [
    "### NON-IID CASE"
   ]
  },
  {
   "cell_type": "markdown",
   "metadata": {},
   "source": [
    "### 1. Compare the 6 different scales of non idd scaling (1 to 5 client and 5 client which know the whole data)"
   ]
  },
  {
   "cell_type": "code",
   "execution_count": 7,
   "metadata": {},
   "outputs": [],
   "source": [
    "labels_names_list = []\n",
    "exp_name = \"exp_5_1_1_dataset_6\"\n",
    "df1 = stats_utils.parse_experiments_statistics_to_df(path_to_exp_statistics, exp_name, csv_filename=\"logs.csv\")\n",
    "labels_names_list.append(stats_utils.load_label_names(path_to_exp_statistics, exp_name))\n",
    "\n",
    "exp_name = \"exp_5_2_1_dataset_6\"\n",
    "df2 = stats_utils.parse_experiments_statistics_to_df(path_to_exp_statistics, exp_name, csv_filename=\"logs.csv\")\n",
    "labels_names_list.append(stats_utils.load_label_names(path_to_exp_statistics, exp_name))\n",
    "\n",
    "exp_name = \"exp_5_3_1_dataset_6\"\n",
    "df3 = stats_utils.parse_experiments_statistics_to_df(path_to_exp_statistics, exp_name, csv_filename=\"logs.csv\")\n",
    "labels_names_list.append(stats_utils.load_label_names(path_to_exp_statistics, exp_name))\n",
    "\n",
    "exp_name = \"exp_5_4_1_dataset_6\"\n",
    "df4 = stats_utils.parse_experiments_statistics_to_df(path_to_exp_statistics, exp_name, csv_filename=\"logs.csv\")\n",
    "labels_names_list.append(stats_utils.load_label_names(path_to_exp_statistics, exp_name))\n",
    "\n",
    "exp_name = \"exp_5_5_1_dataset_6\"\n",
    "df5 = stats_utils.parse_experiments_statistics_to_df(path_to_exp_statistics, exp_name, csv_filename=\"logs.csv\")\n",
    "labels_names_list.append(stats_utils.load_label_names(path_to_exp_statistics, exp_name))\n",
    "\n",
    "exp_name = \"exp_5_5_1_dataset_6_all_dataset\"\n",
    "df6 = stats_utils.parse_experiments_statistics_to_df(path_to_exp_statistics, exp_name, csv_filename=\"logs.csv\")\n",
    "labels_names_list.append(stats_utils.load_label_names(path_to_exp_statistics, exp_name))\n",
    "\n",
    "\n",
    "dfs = [df2, df3, df4, df5, df6]"
   ]
  },
  {
   "cell_type": "code",
   "execution_count": 8,
   "metadata": {},
   "outputs": [],
   "source": [
    "def plot_acc_loss_from_dfs(dfs, get_accuracy_loss_values, path_to_exp_images, should_save=False, filename=\"accuracies_for_every_dataset\", title = \"\", label_names=None):\n",
    "    accs = {}\n",
    "    losses = {}\n",
    "\n",
    "    for i, df in enumerate(dfs):\n",
    "        label_name = label_names[i]\n",
    "        first_client_name = ast.literal_eval(df['devices_names'][0])[0]\n",
    "        acc, loss = get_accuracy_loss_values(df, first_client_name)\n",
    "        accs[label_name] = acc\n",
    "        losses[label_name] = loss\n",
    "\n",
    "    rounds = range(1, len(next(iter(accs.values()))) + 1)\n",
    "\n",
    "    # Plot Accuracy\n",
    "    plt.figure(figsize=(10, 6))\n",
    "    for name, values in accs.items():\n",
    "        plt.plot(rounds, values, label=name)\n",
    "    plt.title(title)\n",
    "    plt.xlabel(\"Federated Round\")\n",
    "    plt.ylabel(\"Accuracy\")\n",
    "    plt.grid(True)\n",
    "    plt.legend()\n",
    "    plt.tight_layout()\n",
    "    if should_save == False:\n",
    "        plt.show()\n",
    "    else:\n",
    "#         filename = \"accuracies_for_every_dataset\"\n",
    "        path_to_file = os.path.join(path_to_exp_images, filename)\n",
    "        plt.savefig(path_to_file, dpi=300)\n",
    "        plt.close()"
   ]
  },
  {
   "cell_type": "code",
   "execution_count": 9,
   "metadata": {},
   "outputs": [],
   "source": [
    "filename = \"client_scaling_on_non_iid_dataset\"\n",
    "label_names = [\"2 clients\", \"3 clients\", \\\n",
    "              \"4 clients\", \"5 clients\", \"5 clients (with the whole dataset known)\"]\n",
    "title = \"Effect of Client Scaling on Non-IID dataset\"\n",
    "plot_acc_loss_from_dfs(dfs, stats_utils.get_accuracy_loss_values_for_dfs, path_to_exp_images, \\\n",
    "                       should_save=True, filename=filename, title=title, label_names=label_names)"
   ]
  },
  {
   "cell_type": "markdown",
   "metadata": {},
   "source": [
    "### IID CASE"
   ]
  },
  {
   "cell_type": "code",
   "execution_count": 4,
   "metadata": {},
   "outputs": [],
   "source": [
    "labels_names_list = []\n",
    "exp_name = \"exp_5_1_1_dataset_6_iid_case\"\n",
    "df1 = stats_utils.parse_experiments_statistics_to_df(path_to_exp_statistics, exp_name, csv_filename=\"logs.csv\")\n",
    "labels_names_list.append(stats_utils.load_label_names(path_to_exp_statistics, exp_name))\n",
    "\n",
    "exp_name = \"exp_5_2_1_dataset_6_iid_case\"\n",
    "df2 = stats_utils.parse_experiments_statistics_to_df(path_to_exp_statistics, exp_name, csv_filename=\"logs.csv\")\n",
    "labels_names_list.append(stats_utils.load_label_names(path_to_exp_statistics, exp_name))\n",
    "\n",
    "exp_name = \"exp_5_3_1_dataset_6_iid_case\"\n",
    "df3 = stats_utils.parse_experiments_statistics_to_df(path_to_exp_statistics, exp_name, csv_filename=\"logs.csv\")\n",
    "labels_names_list.append(stats_utils.load_label_names(path_to_exp_statistics, exp_name))\n",
    "\n",
    "exp_name = \"exp_5_4_1_dataset_6_iid_case\"\n",
    "df4 = stats_utils.parse_experiments_statistics_to_df(path_to_exp_statistics, exp_name, csv_filename=\"logs.csv\")\n",
    "labels_names_list.append(stats_utils.load_label_names(path_to_exp_statistics, exp_name))\n",
    "\n",
    "exp_name = \"exp_5_5_2_dataset_6_iid_case\"\n",
    "df5 = stats_utils.parse_experiments_statistics_to_df(path_to_exp_statistics, exp_name, csv_filename=\"logs.csv\")\n",
    "labels_names_list.append(stats_utils.load_label_names(path_to_exp_statistics, exp_name))\n",
    "\n",
    "dfs = [df2, df3, df4, df5]"
   ]
  },
  {
   "cell_type": "code",
   "execution_count": 9,
   "metadata": {},
   "outputs": [],
   "source": [
    "filename = \"client_scaling_on_iid_dataset\"\n",
    "label_names = [\"2 client\", \"3 clients\", \"4 clients\", \"5 clients\"]\n",
    "title = \"Effect of Client Scaling on IID dataset\"\n",
    "plot_acc_loss_from_dfs(dfs, stats_utils.get_accuracy_loss_values_for_dfs, path_to_exp_images, \\\n",
    "                     should_save=True, filename=filename, title=title, label_names=label_names)"
   ]
  },
  {
   "cell_type": "code",
   "execution_count": null,
   "metadata": {},
   "outputs": [],
   "source": []
  }
 ],
 "metadata": {
  "kernelspec": {
   "display_name": "Python 3",
   "language": "python",
   "name": "python3"
  },
  "language_info": {
   "codemirror_mode": {
    "name": "ipython",
    "version": 3
   },
   "file_extension": ".py",
   "mimetype": "text/x-python",
   "name": "python",
   "nbconvert_exporter": "python",
   "pygments_lexer": "ipython3",
   "version": "3.7.6"
  }
 },
 "nbformat": 4,
 "nbformat_minor": 4
}
